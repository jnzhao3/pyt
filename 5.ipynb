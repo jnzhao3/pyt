{
 "cells": [
  {
   "cell_type": "markdown",
   "metadata": {},
   "source": [
    "# 5 Block Corners\n",
    "\n",
    "Given a tensor, replace corners with triangles of 0s of width $n$.\n",
    "\n",
    "[[4,5,1,2,3],\n",
    "\n",
    "  [3,4,5,6,7],\n",
    "\n",
    "  [7,8,9,10,11]]\n",
    "\n",
    "n = 2 →\n",
    "\n",
    "[[0,0,1,2,3],\n",
    "\n",
    " [0,4,5,6,0],\n",
    "\n",
    " [7,8,9,0,0]]"
   ]
  },
  {
   "cell_type": "code",
   "execution_count": null,
   "metadata": {},
   "outputs": [],
   "source": [
    "import torch"
   ]
  },
  {
   "cell_type": "code",
   "execution_count": null,
   "metadata": {},
   "outputs": [],
   "source": [
    "def block_corners(t: torch.Tensor, n: int) -> torch.Tensor:\n",
    "    pass"
   ]
  },
  {
   "cell_type": "code",
   "execution_count": null,
   "metadata": {},
   "outputs": [],
   "source": [
    "test_cases = {\n",
    "    (torch.tensor([[1, 1, 1], [1, 1, 1], [1, 1, 1]]), 2) : torch.tensor([[0, 0, 1], [0, 1, 0], [1, 0, 0]]),\n",
    "    (torch.tensor([[1]]), 1) : torch.tensor([0]),\n",
    "    (torch.tensor([[7, 3, 2], [1, 6, 8]]), 1) : torch.tensor([[0, 3, 2], [1, 6, 0]])\n",
    "}"
   ]
  },
  {
   "cell_type": "code",
   "execution_count": null,
   "metadata": {},
   "outputs": [],
   "source": [
    "test_func = block_corners\n",
    "for k, v in test_cases.items():\n",
    "    assert torch.all(test_func(*k) == v), f'Received {test_func(*k)} on input {k}. Expected {v}.'"
   ]
  },
  {
   "cell_type": "markdown",
   "metadata": {},
   "source": [
    "## Solutions"
   ]
  },
  {
   "cell_type": "markdown",
   "metadata": {},
   "source": [
    "```python\n",
    "def block_corners(t: torch.Tensor, n: int) -> torch.Tensor:\n",
    "    x_coords, y_coords = torch.meshgrid(torch.arange(t.shape[0]), torch.arange(t.shape[1]), indexing=\"ij\")\n",
    "    mask = (x_coords + y_coords >= n) * (t.shape[0] - 1 - x_coords + t.shape[1] - 1 - y_coords >= n)\n",
    "    return t * mask\n",
    "```"
   ]
  },
  {
   "cell_type": "markdown",
   "metadata": {},
   "source": []
  }
 ],
 "metadata": {
  "kernelspec": {
   "display_name": "tf",
   "language": "python",
   "name": "python3"
  },
  "language_info": {
   "codemirror_mode": {
    "name": "ipython",
    "version": 3
   },
   "file_extension": ".py",
   "mimetype": "text/x-python",
   "name": "python",
   "nbconvert_exporter": "python",
   "pygments_lexer": "ipython3",
   "version": "3.9.13"
  }
 },
 "nbformat": 4,
 "nbformat_minor": 2
}
