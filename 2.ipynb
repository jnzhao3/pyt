{
 "cells": [
  {
   "cell_type": "markdown",
   "metadata": {},
   "source": [
    "# 2 Decreasing\n",
    "\n",
    "Given integer $n$, create an $n \\times n$ tensor with values that decrease along row-column order, and end at 0.\n",
    "\n",
    "3 →\n",
    "\n",
    "876\n",
    "\n",
    "543\n",
    "\n",
    "210"
   ]
  },
  {
   "cell_type": "code",
   "execution_count": null,
   "metadata": {},
   "outputs": [],
   "source": [
    "import torch"
   ]
  },
  {
   "cell_type": "code",
   "execution_count": null,
   "metadata": {},
   "outputs": [],
   "source": [
    "def decreasing(n: int) -> torch.Tensor:\n",
    "    pass"
   ]
  },
  {
   "cell_type": "code",
   "execution_count": null,
   "metadata": {},
   "outputs": [],
   "source": [
    "test_cases = {\n",
    "    3 : torch.tensor([[8, 7, 6], [5, 4, 3], [2, 1, 0]]),\n",
    "    1 : torch.tensor([0]),\n",
    "    2 : torch.tensor([[3, 2], [1, 0]])\n",
    "}"
   ]
  },
  {
   "cell_type": "code",
   "execution_count": null,
   "metadata": {},
   "outputs": [],
   "source": [
    "test_func = decreasing\n",
    "for k, v in test_cases.items():\n",
    "    assert torch.all(test_func(k) == v), f'Received {test_func(k)} on input {k}. Expected {v}.'"
   ]
  },
  {
   "cell_type": "markdown",
   "metadata": {},
   "source": [
    "## Solutions"
   ]
  },
  {
   "cell_type": "markdown",
   "metadata": {},
   "source": [
    "### `arange`, `flip`, and `view`\n",
    "\n",
    "```python\n",
    "def decreasing(n: int) -> torch.Tensor:\n",
    "    return torch.arange(0, n * n).flip(0).view(n, n)\n",
    "```"
   ]
  },
  {
   "cell_type": "markdown",
   "metadata": {},
   "source": [
    "### `arange` in decreasing order\n",
    "```python\n",
    "def decreasing(n):\n",
    "    tensor = torch.arange(n**2 - 1, -1, -1).reshape(n, n)\n",
    "    return tensor\n",
    "```\n",
    "\n",
    "`view` can only be used if tensor is contiguous in memory. If not, `.contiguous()` must be called first. Also, `view` only reshapes if underlying data doesn't need to be altered. `reshape` creates the new tensor, even if data needs to be copied to do so."
   ]
  },
  {
   "cell_type": "markdown",
   "metadata": {},
   "source": []
  }
 ],
 "metadata": {
  "kernelspec": {
   "display_name": "tf",
   "language": "python",
   "name": "python3"
  },
  "language_info": {
   "codemirror_mode": {
    "name": "ipython",
    "version": 3
   },
   "file_extension": ".py",
   "mimetype": "text/x-python",
   "name": "python",
   "nbconvert_exporter": "python",
   "pygments_lexer": "ipython3",
   "version": "3.9.13"
  }
 },
 "nbformat": 4,
 "nbformat_minor": 2
}
