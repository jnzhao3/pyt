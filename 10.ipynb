{
 "cells": [
  {
   "cell_type": "markdown",
   "metadata": {},
   "source": [
    "# 10 Coordinate Grid\n",
    "\n",
    "Given dimensions, $h$ and $w$, create a tensor of size $h \\times w$ where each entry is a size 2 tensor consisting of the coordinates of its position.\n",
    "\n",
    "(2, 3) →\n",
    "\n",
    "[[[0, 0], [0, 1], [0, 2]]\n",
    "\n",
    " [[1, 0], [1, 1], [1, 2]]]\n",
    "\n",
    "Resulting tensor is size $h \\times w \\times 2$."
   ]
  },
  {
   "cell_type": "code",
   "execution_count": null,
   "metadata": {},
   "outputs": [],
   "source": [
    "import torch"
   ]
  },
  {
   "cell_type": "code",
   "execution_count": null,
   "metadata": {},
   "outputs": [],
   "source": [
    "def coordinate_grid(h: int, w: int) -> torch.Tensor:\n",
    "    pass"
   ]
  },
  {
   "cell_type": "code",
   "execution_count": null,
   "metadata": {},
   "outputs": [],
   "source": [
    "test_cases = {\n",
    "    (3, 3) : torch.tensor([[[0, 0], [0, 1], [0, 2]], [[1, 0], [1, 1], [1, 2]], [[2, 0], [2, 1], [2, 2]]]),\n",
    "    (1, 1) : torch.tensor([[[0, 0]]]),\n",
    "    (1, 2) : torch.tensor([[[0, 0], [0, 1]]])\n",
    "}"
   ]
  },
  {
   "cell_type": "code",
   "execution_count": null,
   "metadata": {},
   "outputs": [],
   "source": [
    "test_func = coordinate_grid\n",
    "for k, v in test_cases.items():\n",
    "    assert torch.all(test_func(*k) == v), f'Received {test_func(*k)} on input {k}. Expected {v}.'"
   ]
  },
  {
   "cell_type": "markdown",
   "metadata": {},
   "source": [
    "## Solutions"
   ]
  },
  {
   "cell_type": "markdown",
   "metadata": {},
   "source": [
    "```python\n",
    "def coordinate_grid(h: int, w: int) -> torch.Tensor:\n",
    "    x_vals = torch.arange(h)\n",
    "    y_vals = torch.arange(w)\n",
    "    x_coords, y_coords = torch.meshgrid(x_vals, y_vals, indexing=\"ij\")\n",
    "    return torch.stack((x_coords, y_coords), dim=2)\n",
    "```"
   ]
  }
 ],
 "metadata": {
  "kernelspec": {
   "display_name": "tf",
   "language": "python",
   "name": "python3"
  },
  "language_info": {
   "codemirror_mode": {
    "name": "ipython",
    "version": 3
   },
   "file_extension": ".py",
   "mimetype": "text/x-python",
   "name": "python",
   "nbconvert_exporter": "python",
   "pygments_lexer": "ipython3",
   "version": "3.9.13"
  }
 },
 "nbformat": 4,
 "nbformat_minor": 2
}
