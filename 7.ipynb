{
 "cells": [
  {
   "cell_type": "markdown",
   "metadata": {},
   "source": [
    "# 7 Maximum Manhatten Distance\n",
    "\n",
    "Given a 2D tensor of 0s and 1s, determine the indices of the 1 entry that is furthest away from some target cell, $(i, j)$, according to Manhatten Distance.\n",
    "\n",
    "[[1, 1]\n",
    "\n",
    " [1, 1]]\n",
    "\n",
    " (1, 1) →\n",
    "\n",
    " (0, 0)"
   ]
  },
  {
   "cell_type": "code",
   "execution_count": null,
   "metadata": {},
   "outputs": [],
   "source": [
    "import torch"
   ]
  },
  {
   "cell_type": "code",
   "execution_count": null,
   "metadata": {},
   "outputs": [],
   "source": [
    "def maximum_manhatten_distance(t: torch.Tensor, target_i: int, target_j: int) -> (int, int):\n",
    "    pass"
   ]
  },
  {
   "cell_type": "code",
   "execution_count": null,
   "metadata": {},
   "outputs": [],
   "source": [
    "test_cases = {\n",
    "    (torch.tensor([[0, 1, 1], [1, 0, 1], [0, 1, 0]]), 2, 1) : (0, 2),\n",
    "    (torch.tensor([[0, 1, 1, 1, 1]]), 0, 0) : (0, 4),\n",
    "    (torch.tensor([[1, 1], [1, 1]]), 1, 1) : (0, 0),\n",
    "    (torch.tensor([[1, 1], [1, 1]]), 0, 0) : (1, 1)\n",
    "}"
   ]
  },
  {
   "cell_type": "code",
   "execution_count": null,
   "metadata": {},
   "outputs": [],
   "source": [
    "test_func = maximum_manhatten_distance\n",
    "for k, v in test_cases.items():\n",
    "    assert test_func(*k) == v, f'Received {test_func(*k)} on input {k}. Expected {v}.'"
   ]
  },
  {
   "cell_type": "markdown",
   "metadata": {},
   "source": [
    "## Solutions"
   ]
  },
  {
   "cell_type": "markdown",
   "metadata": {},
   "source": [
    "```python\n",
    "def maximum_manhatten_distance(t: torch.Tensor, target_i: int, target_j: int) -> (int, int):\n",
    "    x_dists = torch.abs(torch.arange(t.shape[0]) - target_i)\n",
    "    y_dists = torch.abs(torch.arange(t.shape[1]) - target_j)\n",
    "    x_coords, y_coords = torch.meshgrid(x_dists, y_dists, indexing=\"ij\")\n",
    "    masked_dists = (x_coords + y_coords) * t\n",
    "    flattened_idx = torch.argmax(masked_dists).item()\n",
    "    return flattened_idx // t.shape[1], flattened_idx % t.shape[1]\n",
    "```"
   ]
  },
  {
   "cell_type": "markdown",
   "metadata": {},
   "source": []
  }
 ],
 "metadata": {
  "kernelspec": {
   "display_name": "tf",
   "language": "python",
   "name": "python3"
  },
  "language_info": {
   "codemirror_mode": {
    "name": "ipython",
    "version": 3
   },
   "file_extension": ".py",
   "mimetype": "text/x-python",
   "name": "python",
   "nbconvert_exporter": "python",
   "pygments_lexer": "ipython3",
   "version": "3.9.13"
  }
 },
 "nbformat": 4,
 "nbformat_minor": 2
}
