{
 "cells": [
  {
   "cell_type": "markdown",
   "metadata": {},
   "source": [
    "# 6 Dice\n",
    "\n",
    "Given $n$, create a $6 \\times n \\times n$ tensor, `t`. The $n \\times n$ tensor at `t[0]` should consist of random, non-negative elements that sum to 1. The $n \\times n$ tensor at `t[1]` should consist of random elements that sum to 2, etc. The $n \\times n$ tensor at `t[5]` should consist of random elements that sum to 6."
   ]
  },
  {
   "cell_type": "code",
   "execution_count": null,
   "metadata": {},
   "outputs": [],
   "source": [
    "import torch"
   ]
  },
  {
   "cell_type": "code",
   "execution_count": null,
   "metadata": {},
   "outputs": [],
   "source": [
    "def dice(n: int) -> torch.Tensor:\n",
    "    pass"
   ]
  },
  {
   "cell_type": "code",
   "execution_count": null,
   "metadata": {},
   "outputs": [],
   "source": [
    "test_cases = {\n",
    "    3 : None,\n",
    "    1 : None,\n",
    "    2 : None,\n",
    "    100 : None,\n",
    "    1000 : None,\n",
    "}"
   ]
  },
  {
   "cell_type": "code",
   "execution_count": null,
   "metadata": {},
   "outputs": [],
   "source": [
    "test_func = dice\n",
    "eps = 1e-6\n",
    "for k, v in test_cases.items():\n",
    "    # assert torch.all(test_func(k) == v), f'Received {test_func(k)} on input {k}. Expected {v}.'\n",
    "    test_output = test_func(k)\n",
    "    assert test_output.shape == (6, k, k)\n",
    "    assert torch.all(test_output >= 0)\n",
    "    for i in range(6):\n",
    "        assert test_output[i].sum().item() > i + 1 - eps and test_output[i].sum().item() < i + 1 + eps, f\"Face {test_output[i]} sums to {test_output[i].sum().item()}, and does not sum to {i + 1}\""
   ]
  },
  {
   "cell_type": "markdown",
   "metadata": {},
   "source": [
    "## Solutions"
   ]
  },
  {
   "cell_type": "markdown",
   "metadata": {},
   "source": [
    "```python\n",
    "def dice(n: int) -> torch.Tensor:\n",
    "    faces = []\n",
    "    for i in range(6):\n",
    "        face = torch.rand(n, n)\n",
    "        face = face / face.sum() * (i + 1)\n",
    "        faces.append(face)\n",
    "    return torch.stack(faces)\n",
    "```"
   ]
  },
  {
   "cell_type": "markdown",
   "metadata": {},
   "source": [
    "```python\n",
    "def dice(n):\n",
    "    t = torch.zeros((6, n, n))\n",
    "    for i in range(6):\n",
    "        # Generate random values\n",
    "        random_values = torch.rand(n, n)\n",
    "        # Normalize to sum to (i + 1)\n",
    "        t[i] = random_values / random_values.sum() * (i + 1)\n",
    "    return t\n",
    "```"
   ]
  },
  {
   "cell_type": "markdown",
   "metadata": {},
   "source": []
  }
 ],
 "metadata": {
  "kernelspec": {
   "display_name": "tf",
   "language": "python",
   "name": "python3"
  },
  "language_info": {
   "codemirror_mode": {
    "name": "ipython",
    "version": 3
   },
   "file_extension": ".py",
   "mimetype": "text/x-python",
   "name": "python",
   "nbconvert_exporter": "python",
   "pygments_lexer": "ipython3",
   "version": "3.9.13"
  }
 },
 "nbformat": 4,
 "nbformat_minor": 2
}
