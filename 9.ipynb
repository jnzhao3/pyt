{
 "cells": [
  {
   "cell_type": "markdown",
   "metadata": {},
   "source": [
    "# 9 Off-Diagonal\n",
    "\n",
    "Given an $n \\times n$ 2D tensor, return a tensor of the elements on the off-diagonal (starting from index `[0, n - 1]`).\n",
    "\n",
    "[[2, 5],\n",
    "\n",
    " [6, 3]] →\n",
    "\n",
    "[5, 6]"
   ]
  },
  {
   "cell_type": "code",
   "execution_count": null,
   "metadata": {},
   "outputs": [],
   "source": [
    "import torch"
   ]
  },
  {
   "cell_type": "code",
   "execution_count": null,
   "metadata": {},
   "outputs": [],
   "source": [
    "def off_diagonal(t: torch.Tensor) -> torch.Tensor:\n",
    "    pass"
   ]
  },
  {
   "cell_type": "code",
   "execution_count": null,
   "metadata": {},
   "outputs": [],
   "source": [
    "test_cases = {\n",
    "    torch.tensor([[1, 1, 1], [1, 2, 1], [1, 1, 1]]) : torch.tensor([1, 2, 1]),\n",
    "    torch.tensor([[1]]) : torch.tensor([1]),\n",
    "    torch.tensor([[2, 5], [6, 3]]) : torch.tensor([5, 6])\n",
    "}"
   ]
  },
  {
   "cell_type": "code",
   "execution_count": null,
   "metadata": {},
   "outputs": [],
   "source": [
    "test_func = off_diagonal\n",
    "for k, v in test_cases.items():\n",
    "    assert torch.all(test_func(k) == v), f'Received {test_func(k)} on input {k}. Expected {v}.'"
   ]
  },
  {
   "cell_type": "markdown",
   "metadata": {},
   "source": [
    "## Solutions"
   ]
  },
  {
   "cell_type": "markdown",
   "metadata": {},
   "source": [
    "```python\n",
    "def off_diagonal(t: torch.Tensor) -> torch.Tensor:\n",
    "    n = t.shape[0]\n",
    "    return t[torch.arange(n), torch.arange(n - 1, -1, -1)]\n",
    "```"
   ]
  },
  {
   "cell_type": "markdown",
   "metadata": {},
   "source": [
    "```python\n",
    "def off_diagonal(t: torch.Tensor) -> torch.Tensor:\n",
    "    t_flipped = t.flip(1)\n",
    "    return t_flipped.diagonal()\n",
    "```"
   ]
  }
 ],
 "metadata": {
  "kernelspec": {
   "display_name": "tf",
   "language": "python",
   "name": "python3"
  },
  "language_info": {
   "codemirror_mode": {
    "name": "ipython",
    "version": 3
   },
   "file_extension": ".py",
   "mimetype": "text/x-python",
   "name": "python",
   "nbconvert_exporter": "python",
   "pygments_lexer": "ipython3",
   "version": "3.9.13"
  }
 },
 "nbformat": 4,
 "nbformat_minor": 2
}
