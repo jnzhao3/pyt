{
 "cells": [
  {
   "cell_type": "markdown",
   "metadata": {},
   "source": [
    "# 4 Broadcastable\n",
    "\n",
    "Given two shapes, return `True` if tensors of the two shapes would be broadcastable. Return `False` otherwise. It's not necessary to use PyTorch for this."
   ]
  },
  {
   "cell_type": "code",
   "execution_count": null,
   "metadata": {},
   "outputs": [],
   "source": [
    "import torch"
   ]
  },
  {
   "cell_type": "code",
   "execution_count": null,
   "metadata": {},
   "outputs": [],
   "source": [
    "def broadcastable(s: torch.Size, t: torch.Size) -> bool:\n",
    "    pass"
   ]
  },
  {
   "cell_type": "code",
   "execution_count": null,
   "metadata": {},
   "outputs": [],
   "source": [
    "test_cases = {\n",
    "    (torch.Size([3, 4, 5]), torch.Size([1])) : None,\n",
    "    (torch.Size([5, 7, 9]), torch.Size([5, 1, 9])) : None,\n",
    "    (torch.Size([5, 7, 9]), torch.Size([0, 0, 1])) : None,\n",
    "    (torch.Size([5, 7, 9]), torch.Size([0, 0, 0])) : None,\n",
    "    (torch.Size([5, 7, 9]), torch.Size([0, 0, 6])) : None,\n",
    "    (torch.Size([5, 7, 9]), torch.Size([1, 7])) : None,\n",
    "    (torch.Size([2, 2]), torch.Size([0,])) : None,\n",
    "    (torch.Size([1, 1]), torch.Size([0,])) : None\n",
    "}"
   ]
  },
  {
   "cell_type": "code",
   "execution_count": null,
   "metadata": {},
   "outputs": [],
   "source": [
    "test_func = broadcastable\n",
    "for k, v in test_cases.items():\n",
    "    x = torch.rand(k[0])\n",
    "    y = torch.rand(k[1])\n",
    "\n",
    "    try:\n",
    "        z = x + y\n",
    "        assert test_func(*k) == True, f\"Received False, instead of True.\"\n",
    "    except:\n",
    "        assert test_func(*k) == False, f\"Received True, instead of False.\""
   ]
  },
  {
   "cell_type": "markdown",
   "metadata": {},
   "source": [
    "## Solutions"
   ]
  },
  {
   "cell_type": "markdown",
   "metadata": {},
   "source": [
    "```python\n",
    "def broadcastable(s: torch.Size, t: torch.Size) -> bool:\n",
    "    for i in range(1, min(len(s), len(t)) + 1):\n",
    "        if s[-i] != t[-i] and s[-i] != 1 and t[-i] != 1:\n",
    "            return False\n",
    "    return True\n",
    "```"
   ]
  },
  {
   "cell_type": "markdown",
   "metadata": {},
   "source": []
  }
 ],
 "metadata": {
  "kernelspec": {
   "display_name": "tf",
   "language": "python",
   "name": "python3"
  },
  "language_info": {
   "codemirror_mode": {
    "name": "ipython",
    "version": 3
   },
   "file_extension": ".py",
   "mimetype": "text/x-python",
   "name": "python",
   "nbconvert_exporter": "python",
   "pygments_lexer": "ipython3",
   "version": "3.9.13"
  }
 },
 "nbformat": 4,
 "nbformat_minor": 2
}
