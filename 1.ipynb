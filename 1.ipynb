{
 "cells": [
  {
   "cell_type": "markdown",
   "metadata": {},
   "source": [
    "# 1 Layered\n",
    "\n",
    "Create a torch tensor given an odd number, $n$. The perimeter of the $n \\times n$ tensor should consist of 1s. Each layer should be incremented by 1, until the center cell is $\\text{ceil}\\left( \\frac{n}{2} \\right)$.\n",
    "\n",
    "Given $n = 3$:\n",
    "\n",
    "111\n",
    "\n",
    "121\n",
    "\n",
    "111\n",
    "\n",
    "Given $n = 7$:\n",
    "\n",
    "1111111\n",
    "\n",
    "1222221\n",
    "\n",
    "1233321\n",
    "\n",
    "1234321\n",
    "\n",
    "1233321\n",
    "\n",
    "1222221\n",
    "\n",
    "1111111"
   ]
  },
  {
   "cell_type": "code",
   "execution_count": null,
   "metadata": {},
   "outputs": [],
   "source": [
    "import torch"
   ]
  },
  {
   "cell_type": "code",
   "execution_count": null,
   "metadata": {},
   "outputs": [],
   "source": [
    "def layered(n: int) -> torch.Tensor:\n",
    "    pass"
   ]
  },
  {
   "cell_type": "code",
   "execution_count": null,
   "metadata": {},
   "outputs": [],
   "source": [
    "test_cases = {\n",
    "    3 : torch.tensor([[1, 1, 1], [1, 2, 1], [1, 1, 1]]),\n",
    "    1 : torch.tensor([1])\n",
    "}"
   ]
  },
  {
   "cell_type": "code",
   "execution_count": null,
   "metadata": {},
   "outputs": [],
   "source": [
    "for k, v in test_cases.items():\n",
    "    assert torch.all(layered(k) == v), f'Received {layered(k)} on input {k}. Expected {v}.'"
   ]
  },
  {
   "cell_type": "markdown",
   "metadata": {},
   "source": [
    "## Solutions"
   ]
  },
  {
   "cell_type": "markdown",
   "metadata": {},
   "source": [
    "### Use a `for` loop and ZeroPad2d\n",
    "```python\n",
    "def layered(n: int) -> torch.Tensor:\n",
    "    t = torch.ones(n, n)\n",
    "    pad = torch.nn.ZeroPad2d(1)\n",
    "    for i in range(1, n // 2 + 1):\n",
    "        s = pad(torch.ones(n - i * 2, n - i * 2))\n",
    "        t = t + s\n",
    "\n",
    "    return t\n",
    "```"
   ]
  },
  {
   "cell_type": "markdown",
   "metadata": {},
   "source": [
    "### Use projection of summation with integer\n",
    "\n",
    "```python\n",
    "def layered(n):\n",
    "    assert n % 2 == 1, \"n must be an odd number.\"\n",
    "    tensor = torch.zeros((n, n), dtype=torch.int32)\n",
    "    for layer in range((n + 1) // 2):\n",
    "        tensor[layer:n-layer, layer:n-layer] = layer + 1\n",
    "    return tensor\n",
    "```"
   ]
  },
  {
   "cell_type": "markdown",
   "metadata": {},
   "source": []
  }
 ],
 "metadata": {
  "kernelspec": {
   "display_name": "tf",
   "language": "python",
   "name": "python3"
  },
  "language_info": {
   "codemirror_mode": {
    "name": "ipython",
    "version": 3
   },
   "file_extension": ".py",
   "mimetype": "text/x-python",
   "name": "python",
   "nbconvert_exporter": "python",
   "pygments_lexer": "ipython3",
   "version": "3.9.13"
  }
 },
 "nbformat": 4,
 "nbformat_minor": 2
}
